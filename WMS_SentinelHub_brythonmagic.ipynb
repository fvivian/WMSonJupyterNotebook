{
 "cells": [
  {
   "cell_type": "code",
   "execution_count": null,
   "metadata": {
    "collapsed": true
   },
   "outputs": [],
   "source": [
    "from IPython.display import IFrame"
   ]
  },
  {
   "cell_type": "code",
   "execution_count": null,
   "metadata": {},
   "outputs": [],
   "source": [
    "playground_url = 'http://apps.sentinel-hub.com/sentinel-playground/?lat=47.05&lng=8.3&zoom=12&preset=1_NATURAL_COL0R&layers=B04,B03,B02&maxcc=20&gain=3.4&gamma=1.9&time=2015-01-01|2017-09-06&cloudCorrection=none&atmFilter=ATMCOR&showDates=false&evalscript='\n",
    "IFrame(playground_url, width='100%', height=500)"
   ]
  },
  {
   "cell_type": "code",
   "execution_count": 1,
   "metadata": {
    "scrolled": false
   },
   "outputs": [],
   "source": [
    "%load_ext brythonmagic"
   ]
  },
  {
   "cell_type": "code",
   "execution_count": 2,
   "metadata": {},
   "outputs": [
    {
     "data": {
      "application/javascript": [
       "\n",
       "    require(\n",
       "        [\n",
       "            \"https://cdn.rawgit.com/brython-dev/brython/master/www/src/brython_dist.js\"\n",
       "        ], \n",
       "        function() {\n",
       "            console.log(\"Loaded js code from https://cdn.rawgit.com/brython-dev/brython/master/www/src/brython_dist.js!\");\n",
       "        }\n",
       "    );    \n",
       "    "
      ],
      "text/plain": [
       "<IPython.core.display.Javascript object>"
      ]
     },
     "metadata": {},
     "output_type": "display_data"
    }
   ],
   "source": [
    "from brythonmagic import load_brython_dev\n",
    "load_brython_dev()"
   ]
  },
  {
   "cell_type": "code",
   "execution_count": 3,
   "metadata": {},
   "outputs": [
    {
     "data": {
      "application/javascript": [
       "\n",
       "    require(\n",
       "        [\n",
       "            \"https://cdnjs.cloudflare.com/ajax/libs/openlayers/2.11/OpenLayers.js\"\n",
       "        ], \n",
       "        function() {\n",
       "            console.log(\"Loaded js code from https://cdnjs.cloudflare.com/ajax/libs/openlayers/2.11/OpenLayers.js!\");\n",
       "        }\n",
       "    );    \n",
       "    "
      ],
      "text/plain": [
       "<IPython.core.display.Javascript object>"
      ]
     },
     "metadata": {},
     "output_type": "display_data"
    }
   ],
   "source": [
    "from brythonmagic import load_js_lib\n",
    "load_js_lib(\"https://cdnjs.cloudflare.com/ajax/libs/openlayers/2.11/OpenLayers.js\")"
   ]
  },
  {
   "cell_type": "code",
   "execution_count": 4,
   "metadata": {
    "collapsed": true
   },
   "outputs": [],
   "source": [
    "html=\"\"\"<div id=\"map_ex2\" style=\"width: 100%; height: 600px;\"></div>\"\"\""
   ]
  },
  {
   "cell_type": "code",
   "execution_count": 6,
   "metadata": {},
   "outputs": [
    {
     "data": {
      "text/html": [
       "  <script id=\"967204\" type=\"text/python\">\n",
       "from browser import document, html\n",
       "from browser import window\n",
       "\n",
       "OpenLayers = window.OpenLayers\n",
       "\n",
       "layer1 = OpenLayers.Layer.WMS.new(\"Base layer (default)\",\n",
       "                                  \"https://services.sentinel-hub.com/v1/wms/0a968a13-5617-485d-8803-34b0577fd7c7\",\n",
       "                                  {\"layers\": \"TRUE_COLOR\",\n",
       "                                  \"gain\": 3.4,\n",
       "                                  \"gamma\": 1.9,\n",
       "                                  \"atmFilter\": \"ATMCOR\"})\n",
       "mymap = OpenLayers.Map.new()\n",
       "mymap.addLayer(layer1)\n",
       "\n",
       "# Set the center\n",
       "location = OpenLayers.LonLat.new(8.3, 47.05)\n",
       "mymap.setCenter(location, 12)\n",
       "# We use render method instead of defining the container in the map instance\n",
       "mymap.render('map_ex2')\n",
       "  </script>\n",
       "  <div id=\"brython_container_967204\"><div id=\"map_ex2\" style=\"width: 100%; height: 600px;\"></div></div>\n",
       "  <script type=\"text/javascript\">brython({debug:1, static_stdlib_import: false, ipy_id: [\"967204\"]});</script>\n"
      ],
      "text/plain": [
       "<IPython.core.display.HTML object>"
      ]
     },
     "metadata": {},
     "output_type": "display_data"
    }
   ],
   "source": [
    "%%brython -h html\n",
    "from browser import document, html\n",
    "from browser import window\n",
    "\n",
    "OpenLayers = window.OpenLayers\n",
    "\n",
    "layer1 = OpenLayers.Layer.WMS.new(\"Base layer (default)\",\n",
    "                                  \"https://services.sentinel-hub.com/v1/wms/0a968a13-5617-485d-8803-34b0577fd7c7\",\n",
    "                                  {\"layers\": \"TRUE_COLOR\",\n",
    "                                  \"gain\": 3.4,\n",
    "                                  \"gamma\": 1.9,\n",
    "                                  \"atmFilter\": \"ATMCOR\"})\n",
    "mymap = OpenLayers.Map.new()\n",
    "mymap.addLayer(layer1)\n",
    "\n",
    "# Set the center\n",
    "location = OpenLayers.LonLat.new(8.3, 47.05)\n",
    "mymap.setCenter(location, 12)\n",
    "# We use render method instead of defining the container in the map instance\n",
    "mymap.render('map_ex2')\n"
   ]
  },
  {
   "cell_type": "code",
   "execution_count": null,
   "metadata": {
    "collapsed": true
   },
   "outputs": [],
   "source": []
  },
  {
   "cell_type": "code",
   "execution_count": null,
   "metadata": {
    "collapsed": true
   },
   "outputs": [],
   "source": []
  }
 ],
 "metadata": {
  "kernelspec": {
   "display_name": "Python 2",
   "language": "python",
   "name": "python2"
  },
  "language_info": {
   "codemirror_mode": {
    "name": "ipython",
    "version": 2
   },
   "file_extension": ".py",
   "mimetype": "text/x-python",
   "name": "python",
   "nbconvert_exporter": "python",
   "pygments_lexer": "ipython2",
   "version": "2.7.13"
  }
 },
 "nbformat": 4,
 "nbformat_minor": 2
}
